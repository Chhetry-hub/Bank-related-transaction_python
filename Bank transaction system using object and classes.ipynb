{
 "cells": [
  {
   "cell_type": "code",
   "execution_count": null,
   "metadata": {},
   "outputs": [],
   "source": [
    "#Bank transaction system using object and classes\n",
    "import sys\n",
    "class bank(object):\n",
    "    \n",
    "     #To initialize name and balance instance variables\n",
    "    def __init__ (self,name,balance=0.0):\n",
    "        self.name = name\n",
    "        self.balance = balance\n",
    "   \n",
    "    #To desposit ammount to existing balance     \n",
    "    def deposit(self,ammount):\n",
    "        self.balance +=ammount\n",
    "        return self.balance\n",
    "   \n",
    "    #To withdraw ammount to existing balance\n",
    "    def withdraw(self,ammount):\n",
    "        if ammount > self.balance:\n",
    "            print(\"LOW BALANCE\")\n",
    "        else:\n",
    "            self.balance -= ammount\n",
    "        return self.balance\n",
    "    \n",
    "#using the bank class\n",
    "#Create an account name and balance\n",
    "name = input(\"ENTER YOUR NAME : \")\n",
    "b = bank(name)\n",
    "\n",
    "while(True):\n",
    "    print(\"D- Deposit , W- Withdraw , E - Exit \")\n",
    "    choice = input(\"YOUR CHOICE : \")\n",
    "    if choice == 'e' or choice == 'E':\n",
    "        sys.exit()\n",
    "    #Ammount for disposit or withdraw \n",
    "    amt = float(input(\"ENTER THE AMMOUNT :\"))\n",
    "    \n",
    "    #do transction\n",
    "    if choice == 'd' or choice == 'D':\n",
    "           print(\"THE ACCOUNT BALANCE IS AFTER DEPOSIT :\",b.deposit(amt))\n",
    "    elif choice == 'w' or choice == 'W':\n",
    "           print(\"THE ACCOUNT BALANCE IS AFTER WITHDREW :\",b.withdraw(amt))"
   ]
  },
  {
   "cell_type": "code",
   "execution_count": null,
   "metadata": {},
   "outputs": [],
   "source": []
  }
 ],
 "metadata": {
  "kernelspec": {
   "display_name": "Python 3",
   "language": "python",
   "name": "python3"
  },
  "language_info": {
   "codemirror_mode": {
    "name": "ipython",
    "version": 3
   },
   "file_extension": ".py",
   "mimetype": "text/x-python",
   "name": "python",
   "nbconvert_exporter": "python",
   "pygments_lexer": "ipython3",
   "version": "3.8.5"
  }
 },
 "nbformat": 4,
 "nbformat_minor": 4
}
